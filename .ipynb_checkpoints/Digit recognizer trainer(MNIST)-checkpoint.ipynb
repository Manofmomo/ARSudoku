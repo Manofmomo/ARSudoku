{
 "cells": [
  {
   "cell_type": "code",
   "execution_count": 16,
   "metadata": {},
   "outputs": [],
   "source": [
    "# Importing the required Keras modules containing model and layers\n",
    "from tensorflow.keras.models import Sequential\n",
    "from tensorflow.keras.layers import Dense, Conv2D, Dropout, Flatten, MaxPooling2D\n",
    "from tensorflow.keras import regularizers\n",
    "\n",
    "import tensorflow as tf\n",
    "import matplotlib.pyplot as plt"
   ]
  },
  {
   "cell_type": "code",
   "execution_count": 17,
   "metadata": {},
   "outputs": [
    {
     "name": "stdout",
     "output_type": "stream",
     "text": [
      "Found 5085 images belonging to 10 classes.\n",
      "Found 565 images belonging to 10 classes.\n",
      "Batch shape=(32, 28, 28, 1), min=0.000, max=242.000\n"
     ]
    }
   ],
   "source": [
    "from keras.preprocessing.image import ImageDataGenerator\n",
    "# create generator\n",
    "datagen = ImageDataGenerator()\n",
    "# prepare an iterators for each dataset\n",
    "x_train = datagen.flow_from_directory('training_data/', batch_size=32,shuffle=True, feed=0, class_mode='categorical',target_size=(28, 28),color_mode='grayscale')\n",
    "x_test = datagen.flow_from_directory('testing_data/', batch_size=32,shuffle=True, feed=0, class_mode='categorical',target_size=(28, 28),color_mode='grayscale')\n",
    "# confirm the iterator works\n",
    "batchX, batchy = x_train.next()\n",
    "print('Batch shape=%s, min=%.3f, max=%.3f' % (batchX.shape, batchX.min(), batchX.max()))"
   ]
  },
  {
   "cell_type": "code",
   "execution_count": null,
   "metadata": {},
   "outputs": [],
   "source": []
  },
  {
   "cell_type": "code",
   "execution_count": 3,
   "metadata": {},
   "outputs": [],
   "source": [
    "?? datagen.flow_from_directory"
   ]
  },
  {
   "cell_type": "code",
   "execution_count": 4,
   "metadata": {},
   "outputs": [],
   "source": [
    "# # Reshaping the array to 4-dims so that it can work with the Keras API\n",
    "# x_train = x_train.reshape(x_train.shape[0], 28, 28, 1)\n",
    "# x_test = x_test.reshape(x_test.shape[0], 28, 28, 1)\n",
    "# input_shape = (28, 28, 1)\n",
    "\n",
    "# # Making sure that the values are float so that we can get decimal points after division\n",
    "# x_train = x_train.astype('float32')\n",
    "# x_test = x_test.astype('float32')\n",
    "\n",
    "# # Normalizing the RGB codes by dividing it to the max RGB value.\n",
    "# x_train /= 255\n",
    "# x_test /= 255"
   ]
  },
  {
   "cell_type": "code",
   "execution_count": 5,
   "metadata": {},
   "outputs": [],
   "source": [
    "# # Creating a Sequential Model and adding the layers\n",
    "\n",
    "# model = Sequential()\n",
    "# model.add(Conv2D(32, (3, 3), activation='relu', kernel_initializer='he_uniform', input_shape=(28, 28, 1)))\n",
    "\n",
    "# model.add(MaxPooling2D((2, 2)))\n",
    "# model.add(Conv2D(64, (3, 3), activation='relu', kernel_initializer='he_uniform'))\n",
    "# model.add(Conv2D(64, (3, 3), activation='relu', kernel_initializer='he_uniform'))\n",
    "# model.add(MaxPooling2D((2, 2)))\n",
    "# model.add(Flatten())\n",
    "# model.add(Dense(100, activation='relu', kernel_initializer='he_uniform'))\n",
    "# model.add(Dense(9, activation='softmax'))"
   ]
  },
  {
   "cell_type": "code",
   "execution_count": 18,
   "metadata": {},
   "outputs": [],
   "source": [
    "model = Sequential([\n",
    "    Conv2D(16, 3, \n",
    "           padding='same',\n",
    "           activation='relu',\n",
    "           kernel_regularizer=regularizers.l2(0.0001),\n",
    "           input_shape=(28, 28 , 1)),\n",
    "    MaxPooling2D(),\n",
    "    Dropout(0.2),\n",
    "    Flatten(),\n",
    "    Dense(\n",
    "        50,\n",
    "        activation='relu',\n",
    "        kernel_regularizer=regularizers.l2(0.0001)\n",
    "    ),\n",
    "    Dropout(0.2),\n",
    "    Dense(10, activation='softmax')\n",
    "])"
   ]
  },
  {
   "cell_type": "code",
   "execution_count": 19,
   "metadata": {
    "scrolled": false
   },
   "outputs": [
    {
     "name": "stdout",
     "output_type": "stream",
     "text": [
      "Epoch 1/110\n",
      "159/159 [==============================] - 9s 48ms/step - loss: 4.7941 - accuracy: 0.1502\n",
      "Epoch 2/110\n",
      "159/159 [==============================] - 5s 29ms/step - loss: 2.1247 - accuracy: 0.1652\n",
      "Epoch 3/110\n",
      "159/159 [==============================] - 5s 30ms/step - loss: 2.0721 - accuracy: 0.1756\n",
      "Epoch 4/110\n",
      "159/159 [==============================] - 5s 29ms/step - loss: 2.0496 - accuracy: 0.1780\n",
      "Epoch 5/110\n",
      "159/159 [==============================] - 5s 30ms/step - loss: 2.0301 - accuracy: 0.1766\n",
      "Epoch 6/110\n",
      "159/159 [==============================] - 5s 30ms/step - loss: 2.0225 - accuracy: 0.1794\n",
      "Epoch 7/110\n",
      "159/159 [==============================] - 5s 29ms/step - loss: 2.0134 - accuracy: 0.1782\n",
      "Epoch 8/110\n",
      "159/159 [==============================] - 5s 29ms/step - loss: 1.9966 - accuracy: 0.1927\n",
      "Epoch 9/110\n",
      "159/159 [==============================] - 5s 29ms/step - loss: 1.9896 - accuracy: 0.1978\n",
      "Epoch 10/110\n",
      "159/159 [==============================] - 5s 30ms/step - loss: 1.9177 - accuracy: 0.2159\n",
      "Epoch 11/110\n",
      "159/159 [==============================] - 5s 30ms/step - loss: 1.9185 - accuracy: 0.2277\n",
      "Epoch 12/110\n",
      "159/159 [==============================] - 5s 29ms/step - loss: 1.8916 - accuracy: 0.2389\n",
      "Epoch 13/110\n",
      "159/159 [==============================] - 5s 29ms/step - loss: 1.8089 - accuracy: 0.2600\n",
      "Epoch 14/110\n",
      "159/159 [==============================] - 5s 30ms/step - loss: 1.7621 - accuracy: 0.2832\n",
      "Epoch 15/110\n",
      "159/159 [==============================] - 5s 34ms/step - loss: 1.5760 - accuracy: 0.3843\n",
      "Epoch 16/110\n",
      "159/159 [==============================] - 6s 36ms/step - loss: 1.3967 - accuracy: 0.4600\n",
      "Epoch 17/110\n",
      "159/159 [==============================] - 5s 33ms/step - loss: 1.3154 - accuracy: 0.4973\n",
      "Epoch 18/110\n",
      "159/159 [==============================] - 5s 29ms/step - loss: 1.2110 - accuracy: 0.5443\n",
      "Epoch 19/110\n",
      "159/159 [==============================] - 5s 30ms/step - loss: 1.1241 - accuracy: 0.5622\n",
      "Epoch 20/110\n",
      "159/159 [==============================] - 5s 30ms/step - loss: 0.9879 - accuracy: 0.6022\n",
      "Epoch 21/110\n",
      "159/159 [==============================] - 5s 30ms/step - loss: 0.9047 - accuracy: 0.6258\n",
      "Epoch 22/110\n",
      "159/159 [==============================] - 5s 30ms/step - loss: 0.6677 - accuracy: 0.7611\n",
      "Epoch 23/110\n",
      "159/159 [==============================] - 5s 31ms/step - loss: 0.5636 - accuracy: 0.7937\n",
      "Epoch 24/110\n",
      "159/159 [==============================] - 5s 30ms/step - loss: 0.5282 - accuracy: 0.8029\n",
      "Epoch 25/110\n",
      "159/159 [==============================] - 5s 30ms/step - loss: 0.4973 - accuracy: 0.8053\n",
      "Epoch 26/110\n",
      "159/159 [==============================] - 5s 30ms/step - loss: 0.4627 - accuracy: 0.8232\n",
      "Epoch 27/110\n",
      "159/159 [==============================] - 5s 32ms/step - loss: 0.4492 - accuracy: 0.8246\n",
      "Epoch 28/110\n",
      "159/159 [==============================] - 6s 35ms/step - loss: 0.3786 - accuracy: 0.8492\n",
      "Epoch 29/110\n",
      "159/159 [==============================] - 6s 35ms/step - loss: 0.3599 - accuracy: 0.8596\n",
      "Epoch 30/110\n",
      "159/159 [==============================] - 6s 37ms/step - loss: 0.3216 - accuracy: 0.8755\n",
      "Epoch 31/110\n",
      "159/159 [==============================] - 6s 39ms/step - loss: 0.3188 - accuracy: 0.8757\n",
      "Epoch 32/110\n",
      "159/159 [==============================] - 5s 29ms/step - loss: 0.3175 - accuracy: 0.8751\n",
      "Epoch 33/110\n",
      "159/159 [==============================] - 5s 29ms/step - loss: 0.3067 - accuracy: 0.8775\n",
      "Epoch 34/110\n",
      "159/159 [==============================] - 5s 30ms/step - loss: 0.2588 - accuracy: 0.9007\n",
      "Epoch 35/110\n",
      "159/159 [==============================] - 5s 30ms/step - loss: 0.2527 - accuracy: 0.9060\n",
      "Epoch 36/110\n",
      "159/159 [==============================] - 5s 31ms/step - loss: 0.2382 - accuracy: 0.9127\n",
      "Epoch 37/110\n",
      "159/159 [==============================] - 6s 35ms/step - loss: 0.2201 - accuracy: 0.9198\n",
      "Epoch 38/110\n",
      "159/159 [==============================] - 6s 37ms/step - loss: 0.2246 - accuracy: 0.9176\n",
      "Epoch 39/110\n",
      "159/159 [==============================] - 6s 39ms/step - loss: 0.1920 - accuracy: 0.9302 0s - loss: 0.192\n",
      "Epoch 40/110\n",
      "159/159 [==============================] - 6s 36ms/step - loss: 0.1845 - accuracy: 0.9375\n",
      "Epoch 41/110\n",
      "159/159 [==============================] - 5s 32ms/step - loss: 0.1782 - accuracy: 0.9410\n",
      "Epoch 42/110\n",
      "159/159 [==============================] - 5s 31ms/step - loss: 0.1656 - accuracy: 0.9467\n",
      "Epoch 43/110\n",
      "159/159 [==============================] - 5s 31ms/step - loss: 0.1667 - accuracy: 0.9455\n",
      "Epoch 44/110\n",
      "159/159 [==============================] - 5s 30ms/step - loss: 0.1541 - accuracy: 0.9522\n",
      "Epoch 45/110\n",
      "159/159 [==============================] - 5s 30ms/step - loss: 0.1477 - accuracy: 0.9554\n",
      "Epoch 46/110\n",
      "159/159 [==============================] - 5s 30ms/step - loss: 0.1637 - accuracy: 0.9510\n",
      "Epoch 47/110\n",
      "159/159 [==============================] - 5s 30ms/step - loss: 0.1481 - accuracy: 0.9522\n",
      "Epoch 48/110\n",
      "159/159 [==============================] - 5s 30ms/step - loss: 0.1408 - accuracy: 0.9546\n",
      "Epoch 49/110\n",
      "159/159 [==============================] - 5s 30ms/step - loss: 0.1308 - accuracy: 0.9587\n",
      "Epoch 50/110\n",
      "159/159 [==============================] - 5s 30ms/step - loss: 0.1582 - accuracy: 0.9487\n",
      "Epoch 51/110\n",
      "159/159 [==============================] - 5s 30ms/step - loss: 0.1360 - accuracy: 0.9559\n",
      "Epoch 52/110\n",
      "159/159 [==============================] - 5s 31ms/step - loss: 0.1387 - accuracy: 0.9559\n",
      "Epoch 53/110\n",
      "159/159 [==============================] - 5s 32ms/step - loss: 0.1359 - accuracy: 0.9591\n",
      "Epoch 54/110\n",
      "159/159 [==============================] - 6s 36ms/step - loss: 0.1329 - accuracy: 0.9579\n",
      "Epoch 55/110\n",
      "159/159 [==============================] - 5s 34ms/step - loss: 0.1354 - accuracy: 0.9573\n",
      "Epoch 56/110\n",
      "159/159 [==============================] - 5s 30ms/step - loss: 0.1498 - accuracy: 0.9544\n",
      "Epoch 57/110\n",
      "159/159 [==============================] - 5s 31ms/step - loss: 0.1255 - accuracy: 0.9605\n",
      "Epoch 58/110\n",
      "159/159 [==============================] - 5s 31ms/step - loss: 0.1236 - accuracy: 0.9579\n",
      "Epoch 59/110\n",
      "159/159 [==============================] - 5s 31ms/step - loss: 0.1214 - accuracy: 0.9601\n",
      "Epoch 60/110\n",
      "159/159 [==============================] - 5s 30ms/step - loss: 0.1339 - accuracy: 0.9601\n",
      "Epoch 61/110\n",
      "159/159 [==============================] - 5s 30ms/step - loss: 0.1335 - accuracy: 0.9552\n",
      "Epoch 62/110\n",
      "159/159 [==============================] - 6s 35ms/step - loss: 0.1207 - accuracy: 0.9622\n",
      "Epoch 63/110\n",
      "159/159 [==============================] - 6s 38ms/step - loss: 0.1346 - accuracy: 0.9579\n",
      "Epoch 64/110\n",
      "159/159 [==============================] - 5s 33ms/step - loss: 0.1237 - accuracy: 0.9615\n",
      "Epoch 65/110\n",
      "159/159 [==============================] - 5s 29ms/step - loss: 0.1306 - accuracy: 0.9597\n",
      "Epoch 66/110\n",
      "159/159 [==============================] - 5s 30ms/step - loss: 0.1226 - accuracy: 0.9609\n",
      "Epoch 67/110\n",
      "159/159 [==============================] - 5s 29ms/step - loss: 0.1298 - accuracy: 0.9599\n",
      "Epoch 68/110\n",
      "159/159 [==============================] - 5s 30ms/step - loss: 0.1335 - accuracy: 0.9567\n",
      "Epoch 69/110\n",
      "159/159 [==============================] - 5s 30ms/step - loss: 0.1328 - accuracy: 0.9607\n",
      "Epoch 70/110\n",
      "159/159 [==============================] - 5s 30ms/step - loss: 0.1259 - accuracy: 0.9593\n",
      "Epoch 71/110\n",
      "159/159 [==============================] - 5s 30ms/step - loss: 0.1326 - accuracy: 0.9589\n",
      "Epoch 72/110\n",
      "159/159 [==============================] - 5s 30ms/step - loss: 0.1223 - accuracy: 0.9650\n",
      "Epoch 73/110\n",
      "159/159 [==============================] - 5s 30ms/step - loss: 0.1134 - accuracy: 0.9691\n",
      "Epoch 74/110\n",
      "159/159 [==============================] - 5s 30ms/step - loss: 0.1058 - accuracy: 0.9681\n",
      "Epoch 75/110\n",
      "159/159 [==============================] - 5s 31ms/step - loss: 0.1216 - accuracy: 0.9636\n",
      "Epoch 76/110\n",
      "159/159 [==============================] - 5s 31ms/step - loss: 0.1093 - accuracy: 0.9676\n",
      "Epoch 77/110\n",
      "159/159 [==============================] - 5s 30ms/step - loss: 0.1147 - accuracy: 0.9654\n",
      "Epoch 78/110\n",
      "159/159 [==============================] - 5s 30ms/step - loss: 0.1145 - accuracy: 0.9654\n",
      "Epoch 79/110\n",
      "159/159 [==============================] - 6s 36ms/step - loss: 0.1121 - accuracy: 0.9662\n",
      "Epoch 80/110\n"
     ]
    },
    {
     "name": "stdout",
     "output_type": "stream",
     "text": [
      "159/159 [==============================] - 5s 33ms/step - loss: 0.1242 - accuracy: 0.9620\n",
      "Epoch 81/110\n",
      "159/159 [==============================] - 5s 30ms/step - loss: 0.1048 - accuracy: 0.9703\n",
      "Epoch 82/110\n",
      "159/159 [==============================] - 4s 28ms/step - loss: 0.1064 - accuracy: 0.9689\n",
      "Epoch 83/110\n",
      "159/159 [==============================] - 5s 28ms/step - loss: 0.1178 - accuracy: 0.9658\n",
      "Epoch 84/110\n",
      "159/159 [==============================] - 5s 28ms/step - loss: 0.1025 - accuracy: 0.9701\n",
      "Epoch 85/110\n",
      "159/159 [==============================] - 5s 29ms/step - loss: 0.1119 - accuracy: 0.9672\n",
      "Epoch 86/110\n",
      "159/159 [==============================] - 5s 32ms/step - loss: 0.1121 - accuracy: 0.9687\n",
      "Epoch 87/110\n",
      "159/159 [==============================] - 6s 35ms/step - loss: 0.1183 - accuracy: 0.9638\n",
      "Epoch 88/110\n",
      "159/159 [==============================] - 5s 34ms/step - loss: 0.1181 - accuracy: 0.9642\n",
      "Epoch 89/110\n",
      "159/159 [==============================] - 5s 28ms/step - loss: 0.1064 - accuracy: 0.9697\n",
      "Epoch 90/110\n",
      "159/159 [==============================] - 5s 29ms/step - loss: 0.1083 - accuracy: 0.9679\n",
      "Epoch 91/110\n",
      "159/159 [==============================] - 5s 28ms/step - loss: 0.1251 - accuracy: 0.9648\n",
      "Epoch 92/110\n",
      "159/159 [==============================] - 5s 29ms/step - loss: 0.1133 - accuracy: 0.9650\n",
      "Epoch 93/110\n",
      "159/159 [==============================] - 5s 29ms/step - loss: 0.1095 - accuracy: 0.9668\n",
      "Epoch 94/110\n",
      "159/159 [==============================] - 5s 28ms/step - loss: 0.1011 - accuracy: 0.9701\n",
      "Epoch 95/110\n",
      "159/159 [==============================] - 5s 29ms/step - loss: 0.1057 - accuracy: 0.9693\n",
      "Epoch 96/110\n",
      "159/159 [==============================] - 5s 29ms/step - loss: 0.1108 - accuracy: 0.9646\n",
      "Epoch 97/110\n",
      "159/159 [==============================] - 5s 31ms/step - loss: 0.1020 - accuracy: 0.9707\n",
      "Epoch 98/110\n",
      "159/159 [==============================] - 5s 30ms/step - loss: 0.1147 - accuracy: 0.9648\n",
      "Epoch 99/110\n",
      "159/159 [==============================] - 5s 29ms/step - loss: 0.1003 - accuracy: 0.9693\n",
      "Epoch 100/110\n",
      "159/159 [==============================] - 5s 29ms/step - loss: 0.1144 - accuracy: 0.9689\n",
      "Epoch 101/110\n",
      "159/159 [==============================] - 5s 29ms/step - loss: 0.1095 - accuracy: 0.9683\n",
      "Epoch 102/110\n",
      "159/159 [==============================] - 5s 32ms/step - loss: 0.1024 - accuracy: 0.9699\n",
      "Epoch 103/110\n",
      "159/159 [==============================] - 6s 35ms/step - loss: 0.1018 - accuracy: 0.9676\n",
      "Epoch 104/110\n",
      "159/159 [==============================] - 6s 40ms/step - loss: 0.0952 - accuracy: 0.9723\n",
      "Epoch 105/110\n",
      "159/159 [==============================] - 5s 29ms/step - loss: 0.0938 - accuracy: 0.9729\n",
      "Epoch 106/110\n",
      "159/159 [==============================] - 4s 28ms/step - loss: 0.0929 - accuracy: 0.9717\n",
      "Epoch 107/110\n",
      "159/159 [==============================] - 5s 28ms/step - loss: 0.0933 - accuracy: 0.9762\n",
      "Epoch 108/110\n",
      "159/159 [==============================] - 5s 29ms/step - loss: 0.0940 - accuracy: 0.9746\n",
      "Epoch 109/110\n",
      "159/159 [==============================] - 5s 29ms/step - loss: 0.0938 - accuracy: 0.9758\n",
      "Epoch 110/110\n",
      "159/159 [==============================] - 6s 37ms/step - loss: 0.0819 - accuracy: 0.9768\n"
     ]
    },
    {
     "data": {
      "text/plain": [
       "<tensorflow.python.keras.callbacks.History at 0x7f06a1399730>"
      ]
     },
     "execution_count": 19,
     "metadata": {},
     "output_type": "execute_result"
    }
   ],
   "source": [
    "\n",
    "model.compile(optimizer='adam', \n",
    "              loss='categorical_crossentropy', \n",
    "              metrics=['accuracy'])\n",
    "model.fit(x_train, epochs=110)"
   ]
  },
  {
   "cell_type": "code",
   "execution_count": 14,
   "metadata": {},
   "outputs": [
    {
     "name": "stdout",
     "output_type": "stream",
     "text": [
      "16/16 [==============================] - 0s 19ms/step - loss: 0.1437 - accuracy: 0.9902\n"
     ]
    },
    {
     "data": {
      "text/plain": [
       "[0.14366327226161957, 0.990176796913147]"
      ]
     },
     "execution_count": 14,
     "metadata": {},
     "output_type": "execute_result"
    }
   ],
   "source": [
    "model.evaluate(x_test)"
   ]
  },
  {
   "cell_type": "code",
   "execution_count": 15,
   "metadata": {},
   "outputs": [],
   "source": [
    "\n",
    "\n",
    "model.save(\"big_epoch_hmm.h5\")"
   ]
  },
  {
   "cell_type": "code",
   "execution_count": 9,
   "metadata": {},
   "outputs": [],
   "source": [
    "?? model.fit"
   ]
  }
 ],
 "metadata": {
  "kernelspec": {
   "display_name": "Python 3",
   "language": "python",
   "name": "python3"
  },
  "language_info": {
   "codemirror_mode": {
    "name": "ipython",
    "version": 3
   },
   "file_extension": ".py",
   "mimetype": "text/x-python",
   "name": "python",
   "nbconvert_exporter": "python",
   "pygments_lexer": "ipython3",
   "version": "3.8.5"
  }
 },
 "nbformat": 4,
 "nbformat_minor": 4
}
