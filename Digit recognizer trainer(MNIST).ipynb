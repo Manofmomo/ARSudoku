{
 "cells": [
  {
   "cell_type": "code",
   "execution_count": 33,
   "metadata": {},
   "outputs": [],
   "source": [
    "# Importing the required Keras modules containing model and layers\n",
    "from tensorflow.keras.models import Sequential\n",
    "from tensorflow.keras.layers import Dense, Conv2D, Dropout, Flatten, MaxPooling2D\n",
    "from tensorflow.keras import regularizers\n",
    "from tensorflow.keras.optimizers import Adam\n",
    "import tensorflow as tf\n",
    "import matplotlib.pyplot as plt"
   ]
  },
  {
   "cell_type": "code",
   "execution_count": 17,
   "metadata": {},
   "outputs": [
    {
     "name": "stdout",
     "output_type": "stream",
     "text": [
      "Found 5085 images belonging to 10 classes.\n",
      "Found 565 images belonging to 10 classes.\n",
      "Batch shape=(32, 28, 28, 1), min=0.000, max=242.000\n"
     ]
    }
   ],
   "source": [
    "from keras.preprocessing.image import ImageDataGenerator\n",
    "# create generator\n",
    "datagen = ImageDataGenerator()\n",
    "# prepare an iterators for each dataset\n",
    "x_train = datagen.flow_from_directory('training_data/', batch_size=32,shuffle=True, feed=0, class_mode='categorical',target_size=(28, 28),color_mode='grayscale')\n",
    "x_test = datagen.flow_from_directory('testing_data/', batch_size=32,shuffle=True, feed=0, class_mode='categorical',target_size=(28, 28),color_mode='grayscale')\n",
    "# confirm the iterator works\n",
    "batchX, batchy = x_train.next()\n",
    "print('Batch shape=%s, min=%.3f, max=%.3f' % (batchX.shape, batchX.min(), batchX.max()))"
   ]
  },
  {
   "cell_type": "code",
   "execution_count": null,
   "metadata": {},
   "outputs": [],
   "source": []
  },
  {
   "cell_type": "code",
   "execution_count": 39,
   "metadata": {},
   "outputs": [],
   "source": [
    "?? datagen.flow_from_directory"
   ]
  },
  {
   "cell_type": "code",
   "execution_count": 4,
   "metadata": {},
   "outputs": [],
   "source": [
    "# # Reshaping the array to 4-dims so that it can work with the Keras API\n",
    "# x_train = x_train.reshape(x_train.shape[0], 28, 28, 1)\n",
    "# x_test = x_test.reshape(x_test.shape[0], 28, 28, 1)\n",
    "# input_shape = (28, 28, 1)\n",
    "\n",
    "# # Making sure that the values are float so that we can get decimal points after division\n",
    "# x_train = x_train.astype('float32')\n",
    "# x_test = x_test.astype('float32')\n",
    "\n",
    "# # Normalizing the RGB codes by dividing it to the max RGB value.\n",
    "# x_train /= 255\n",
    "# x_test /= 255"
   ]
  },
  {
   "cell_type": "code",
   "execution_count": 5,
   "metadata": {},
   "outputs": [],
   "source": [
    "# # Creating a Sequential Model and adding the layers\n",
    "\n",
    "# model = Sequential()\n",
    "# model.add(Conv2D(32, (3, 3), activation='relu', kernel_initializer='he_uniform', input_shape=(28, 28, 1)))\n",
    "\n",
    "# model.add(MaxPooling2D((2, 2)))\n",
    "# model.add(Conv2D(64, (3, 3), activation='relu', kernel_initializer='he_uniform'))\n",
    "# model.add(Conv2D(64, (3, 3), activation='relu', kernel_initializer='he_uniform'))\n",
    "# model.add(MaxPooling2D((2, 2)))\n",
    "# model.add(Flatten())\n",
    "# model.add(Dense(100, activation='relu', kernel_initializer='he_uniform'))\n",
    "# model.add(Dense(9, activation='softmax'))"
   ]
  },
  {
   "cell_type": "code",
   "execution_count": 18,
   "metadata": {},
   "outputs": [],
   "source": [
    "model = Sequential([\n",
    "    Conv2D(16, 3, \n",
    "           padding='same',\n",
    "           activation='relu',\n",
    "           kernel_regularizer=regularizers.l2(0.0001),\n",
    "           input_shape=(28, 28 , 1)),\n",
    "    MaxPooling2D(),\n",
    "    Dropout(0.2),\n",
    "    Flatten(),\n",
    "    Dense(\n",
    "        50,\n",
    "        activation='relu',\n",
    "        kernel_regularizer=regularizers.l2(0.0001)\n",
    "    ),\n",
    "    Dropout(0.2),\n",
    "    Dense(10, activation='softmax')\n",
    "])"
   ]
  },
  {
   "cell_type": "code",
   "execution_count": 36,
   "metadata": {
    "scrolled": false
   },
   "outputs": [
    {
     "name": "stdout",
     "output_type": "stream",
     "text": [
      "Epoch 1/20\n",
      "159/159 [==============================] - 4s 23ms/step - loss: 0.0195 - accuracy: 0.9961\n",
      "Epoch 2/20\n",
      "159/159 [==============================] - 3s 21ms/step - loss: 0.0175 - accuracy: 0.9963\n",
      "Epoch 3/20\n",
      "159/159 [==============================] - 3s 21ms/step - loss: 0.0138 - accuracy: 0.9971\n",
      "Epoch 4/20\n",
      "159/159 [==============================] - 3s 22ms/step - loss: 0.0181 - accuracy: 0.9965\n",
      "Epoch 5/20\n",
      "159/159 [==============================] - 3s 21ms/step - loss: 0.0184 - accuracy: 0.9961\n",
      "Epoch 6/20\n",
      "159/159 [==============================] - 3s 22ms/step - loss: 0.0208 - accuracy: 0.9959\n",
      "Epoch 7/20\n",
      "159/159 [==============================] - 3s 21ms/step - loss: 0.0190 - accuracy: 0.9963\n",
      "Epoch 8/20\n",
      "159/159 [==============================] - 4s 25ms/step - loss: 0.0219 - accuracy: 0.9959\n",
      "Epoch 9/20\n",
      "159/159 [==============================] - 4s 26ms/step - loss: 0.0173 - accuracy: 0.9959\n",
      "Epoch 10/20\n",
      "159/159 [==============================] - 3s 22ms/step - loss: 0.0149 - accuracy: 0.9969\n",
      "Epoch 11/20\n",
      "159/159 [==============================] - 3s 22ms/step - loss: 0.0174 - accuracy: 0.9959\n",
      "Epoch 12/20\n",
      "159/159 [==============================] - 3s 22ms/step - loss: 0.0203 - accuracy: 0.9965\n",
      "Epoch 13/20\n",
      "159/159 [==============================] - 4s 23ms/step - loss: 0.0186 - accuracy: 0.9971\n",
      "Epoch 14/20\n",
      "159/159 [==============================] - 4s 24ms/step - loss: 0.0168 - accuracy: 0.9971\n",
      "Epoch 15/20\n",
      "159/159 [==============================] - 4s 24ms/step - loss: 0.0168 - accuracy: 0.9965\n",
      "Epoch 16/20\n",
      "159/159 [==============================] - 3s 22ms/step - loss: 0.0135 - accuracy: 0.9976\n",
      "Epoch 17/20\n",
      "159/159 [==============================] - 3s 22ms/step - loss: 0.0194 - accuracy: 0.9953\n",
      "Epoch 18/20\n",
      "159/159 [==============================] - 3s 22ms/step - loss: 0.0186 - accuracy: 0.9949\n",
      "Epoch 19/20\n",
      "159/159 [==============================] - 3s 22ms/step - loss: 0.0197 - accuracy: 0.9959\n",
      "Epoch 20/20\n",
      "159/159 [==============================] - 3s 22ms/step - loss: 0.0166 - accuracy: 0.9965\n"
     ]
    },
    {
     "data": {
      "text/plain": [
       "<tensorflow.python.keras.callbacks.History at 0x7f06a0992880>"
      ]
     },
     "execution_count": 36,
     "metadata": {},
     "output_type": "execute_result"
    }
   ],
   "source": [
    "opt = Adam(learning_rate=0.00001)\n",
    "\n",
    "model.compile(optimizer=opt, \n",
    "              loss='categorical_crossentropy', \n",
    "              metrics=['accuracy'])\n",
    "model.fit(x_train, epochs=20)"
   ]
  },
  {
   "cell_type": "code",
   "execution_count": 37,
   "metadata": {},
   "outputs": [
    {
     "name": "stdout",
     "output_type": "stream",
     "text": [
      "18/18 [==============================] - 1s 19ms/step - loss: 0.1457 - accuracy: 0.9912\n"
     ]
    },
    {
     "data": {
      "text/plain": [
       "[0.1456841230392456, 0.991150438785553]"
      ]
     },
     "execution_count": 37,
     "metadata": {},
     "output_type": "execute_result"
    }
   ],
   "source": [
    "model.evaluate(x_test)"
   ]
  },
  {
   "cell_type": "code",
   "execution_count": 38,
   "metadata": {},
   "outputs": [],
   "source": [
    "\n",
    "\n",
    "model.save(\"big_epoch_whitey.h5\")"
   ]
  },
  {
   "cell_type": "code",
   "execution_count": 9,
   "metadata": {},
   "outputs": [],
   "source": [
    "?? model.fit"
   ]
  }
 ],
 "metadata": {
  "kernelspec": {
   "display_name": "Python 3",
   "language": "python",
   "name": "python3"
  },
  "language_info": {
   "codemirror_mode": {
    "name": "ipython",
    "version": 3
   },
   "file_extension": ".py",
   "mimetype": "text/x-python",
   "name": "python",
   "nbconvert_exporter": "python",
   "pygments_lexer": "ipython3",
   "version": "3.8.5"
  }
 },
 "nbformat": 4,
 "nbformat_minor": 4
}
