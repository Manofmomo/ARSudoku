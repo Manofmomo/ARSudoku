{
 "cells": [
  {
   "cell_type": "code",
   "execution_count": 2,
   "metadata": {},
   "outputs": [],
   "source": [
    "from tensorflow import keras\n",
    "import matplotlib.pyplot as plt"
   ]
  },
  {
   "cell_type": "code",
   "execution_count": 6,
   "metadata": {},
   "outputs": [
    {
     "name": "stdout",
     "output_type": "stream",
     "text": [
      "(28, 28)\n",
      "(28, 28)\n"
     ]
    },
    {
     "data": {
      "text/plain": [
       "array([[2.8217095e-01, 3.4862524e-13, 3.0077236e-09, 6.0247523e-01,\n",
       "        8.3325933e-17, 1.3434875e-05, 1.1534047e-01, 4.4908220e-20,\n",
       "        2.2366313e-08]], dtype=float32)"
      ]
     },
     "execution_count": 6,
     "metadata": {},
     "output_type": "execute_result"
    },
    {
     "data": {
      "image/png": "[encoded data removed]",
      "text/plain": [
       "<Figure size 432x288 with 1 Axes>"
      ]
     },
     "metadata": {
      "needs_background": "light"
     },
     "output_type": "display_data"
    }
   ],
   "source": [
    "model = keras.models.load_model('big_epoch.h5')\n",
    "import cv2\n",
    "img=cv2.imread('Debug/NN/grid_76.png',0)\n",
    "plt.imshow(img)\n",
    "print(img.shape)\n",
    "\n",
    "img = cv2.resize(img, (28, 28),interpolation = cv2.INTER_NEAREST)\n",
    "print(img.shape)\n",
    "plt.imshow(img)\n",
    "img=img.reshape(1,28,28,1)\n",
    "model.predict(img)"
   ]
  }
 ],
 "metadata": {
  "kernelspec": {
   "display_name": "Python 3",
   "language": "python",
   "name": "python3"
  },
  "language_info": {
   "codemirror_mode": {
    "name": "ipython",
    "version": 3
   },
   "file_extension": ".py",
   "mimetype": "text/x-python",
   "name": "python",
   "nbconvert_exporter": "python",
   "pygments_lexer": "ipython3",
   "version": "3.8.5"
  }
 },
 "nbformat": 4,
 "nbformat_minor": 4
}
